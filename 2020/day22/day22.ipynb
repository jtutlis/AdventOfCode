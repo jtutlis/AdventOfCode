{
 "metadata": {
  "language_info": {
   "codemirror_mode": {
    "name": "ipython",
    "version": 3
   },
   "file_extension": ".py",
   "mimetype": "text/x-python",
   "name": "python",
   "nbconvert_exporter": "python",
   "pygments_lexer": "ipython3",
   "version": "3.8.6-final"
  },
  "orig_nbformat": 2,
  "kernelspec": {
   "name": "python3",
   "display_name": "Python 3.8.6 64-bit",
   "metadata": {
    "interpreter": {
     "hash": "0adcc2737ebf6a4a119f135174df96668767fca1ef1112612db5ecadf2b6d608"
    }
   }
  }
 },
 "nbformat": 4,
 "nbformat_minor": 2,
 "cells": [
  {
   "cell_type": "code",
   "execution_count": 11,
   "metadata": {},
   "outputs": [
    {
     "output_type": "stream",
     "name": "stdout",
     "text": [
      "['9', '2', '6', '3', '1'] ['5', '8', '4', '7', '10']\n"
     ]
    }
   ],
   "source": [
    "f = open(\"data.txt\", \"r\")\n",
    "data = f.read()\n",
    "data = data.split('\\n\\n')\n",
    "player1 = data[0].split(':\\n')[1].split('\\n')\n",
    "player2 = data[1].split(':\\n')[1].split('\\n')\n",
    "\n",
    "\n",
    "\n",
    "#player1, player2 = list(data[0].split(':')[1]),list(data[1].split(':')[1])\n",
    "\n",
    "# player1 = list(player1.split(':')[1])\n",
    "print(player1,player2)"
   ]
  },
  {
   "cell_type": "code",
   "execution_count": 12,
   "metadata": {},
   "outputs": [],
   "source": [
    "player1 = [int(x) for x in player1]\n",
    "player2 = [int(x) for x in player2]"
   ]
  },
  {
   "cell_type": "code",
   "execution_count": 13,
   "metadata": {
    "tags": []
   },
   "outputs": [
    {
     "output_type": "execute_result",
     "data": {
      "text/plain": [
       "306"
      ]
     },
     "metadata": {},
     "execution_count": 13
    }
   ],
   "source": [
    "def war(player1, player2):\n",
    "    count = 1\n",
    "    while len(player1) != 0 and len(player2) != 0:\n",
    "        # print(f'round {count}')\n",
    "        count +=1\n",
    "        # print(f'player1={player1} player2={player2}')\n",
    "        p1 = player1.pop(0)\n",
    "        p2 = player2.pop(0)\n",
    "        # print(f'p1={p1} p2={p2}')\n",
    "\n",
    "        if p1 > p2:\n",
    "            # print(\"player 1 wins\")\n",
    "            player1.extend([p1,p2])\n",
    "        else:\n",
    "            # print(\"player 2 wins\")\n",
    "            player2.extend([p2,p1])\n",
    "        # print(player1)\n",
    "        # print(player2)\n",
    "        # print()\n",
    "    \n",
    "    winner = None\n",
    "    i = 0\n",
    "    if len(player1) > 0:\n",
    "        i = len(player1)\n",
    "        winner = player1\n",
    "    else:\n",
    "        i = len(player2)\n",
    "        winner = player2\n",
    "    # print(winner)\n",
    "\n",
    "    cumSum = 0\n",
    "    for p in winner:\n",
    "        # print(i,p)\n",
    "        cumSum += i * p\n",
    "        # print(cumSum)\n",
    "        i -= 1\n",
    "\n",
    "    return cumSum\n",
    "\n",
    "    \n",
    "\n",
    "\n",
    "war(player1[:], player2[:])\n"
   ]
  },
  {
   "cell_type": "code",
   "execution_count": 14,
   "metadata": {},
   "outputs": [],
   "source": [
    "def calcScore(winner):\n",
    "    cumSum = 0\n",
    "    i = len(winner)\n",
    "    for p in winner:\n",
    "        # print(i,p)\n",
    "        cumSum += i * p\n",
    "        # print(cumSum)\n",
    "        i -= 1\n",
    "    print(cumSum)"
   ]
  },
  {
   "cell_type": "code",
   "execution_count": 16,
   "metadata": {},
   "outputs": [
    {
     "output_type": "stream",
     "name": "stdout",
     "text": [
      "328\n"
     ]
    },
    {
     "output_type": "execute_result",
     "data": {
      "text/plain": [
       "False"
      ]
     },
     "metadata": {},
     "execution_count": 16
    }
   ],
   "source": [
    "def notPlayedBefore(player1,player2):\n",
    "    a = str(player1) + '-' + str(player2)\n",
    "    if a in notPlayedBefore.cache:\n",
    "        return False\n",
    "    else:\n",
    "        notPlayedBefore.cache[a] = 1\n",
    "        # print('notPlayedBefore True')\n",
    "        return True\n",
    "\n",
    "notPlayedBefore.cache = {}\n",
    "\n",
    "def part2(player1,player2, first=False):\n",
    "\n",
    "    count = 1\n",
    "    \n",
    "    while len(player1) != 0 and len(player2) != 0 and notPlayedBefore(player1,player2):\n",
    "        p1 = player1.pop(0)\n",
    "        p2 = player2.pop(0)\n",
    "        # print(f'count={count}, p1={p1}, p2={p2}')\n",
    "        # print(f'player1={player1} player2={player2}')\n",
    "\n",
    "        count += 1\n",
    "\n",
    "        if p1 < len(player1) and p2 < len(player2):\n",
    "            # print(\"SUBGAME\")\n",
    "            if part2(player1[:p1],player2[:p2]):\n",
    "                 player1.extend([p1,p2])\n",
    "            else:\n",
    "                player2.extend([p2,p1])\n",
    "        else:\n",
    "            if p1 > p2:\n",
    "                player1.extend([p1,p2])\n",
    "            else:\n",
    "                player2.extend([p2,p1])\n",
    "        # print()\n",
    "    if not notPlayedBefore(player1,player2):\n",
    "        if first:\n",
    "            calcScore(player1)\n",
    "        return True\n",
    "    if len(player1) > 0:\n",
    "        if first:\n",
    "            calcScore(player1)\n",
    "\n",
    "        return True\n",
    "    else:\n",
    "        if first:\n",
    "            calcScore(player2)\n",
    "\n",
    "        return False\n",
    "    \n",
    "part2(player1[:], player2[:], True)\n"
   ]
  },
  {
   "cell_type": "code",
   "execution_count": null,
   "metadata": {},
   "outputs": [],
   "source": []
  }
 ]
}