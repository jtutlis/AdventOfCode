{
 "metadata": {
  "language_info": {
   "codemirror_mode": {
    "name": "ipython",
    "version": 3
   },
   "file_extension": ".py",
   "mimetype": "text/x-python",
   "name": "python",
   "nbconvert_exporter": "python",
   "pygments_lexer": "ipython3",
   "version": "3.8.6-final"
  },
  "orig_nbformat": 2,
  "kernelspec": {
   "name": "python3",
   "display_name": "Python 3.8.6 64-bit",
   "metadata": {
    "interpreter": {
     "hash": "0adcc2737ebf6a4a119f135174df96668767fca1ef1112612db5ecadf2b6d608"
    }
   }
  }
 },
 "nbformat": 4,
 "nbformat_minor": 2,
 "cells": [
  {
   "cell_type": "code",
   "execution_count": 1,
   "metadata": {},
   "outputs": [],
   "source": [
    "f = open(\"data.txt\", \"r\")\n",
    "data = f.readlines()\n",
    "data = [x.strip('\\n') for x in data]"
   ]
  },
  {
   "cell_type": "code",
   "execution_count": 2,
   "metadata": {},
   "outputs": [],
   "source": [
    "def part1():\n",
    "    pc = 0\n",
    "    accum = 0\n",
    "    infiniteLoopTracker = [0] * len(data)\n",
    "\n",
    "    while infiniteLoopTracker[pc] == 0:\n",
    "        instruction, argument  = data[pc].split(' ')\n",
    "        infiniteLoopTracker[pc] = 1\n",
    "        # print(f'pc={pc}')\n",
    "        if instruction == \"acc\":\n",
    "            accum += int(argument)\n",
    "            # print(f'accum={accum}')\n",
    "            pc += 1\n",
    "        elif instruction == \"jmp\":\n",
    "            pc += int(argument)\n",
    "        else:\n",
    "            pc += 1\n",
    "    return accum"
   ]
  },
  {
   "cell_type": "code",
   "execution_count": 3,
   "metadata": {},
   "outputs": [
    {
     "output_type": "execute_result",
     "data": {
      "text/plain": [
       "1654"
      ]
     },
     "metadata": {},
     "execution_count": 3
    }
   ],
   "source": [
    "part1()"
   ]
  },
  {
   "cell_type": "code",
   "execution_count": 4,
   "metadata": {},
   "outputs": [],
   "source": [
    "### Part 2\n",
    "\n",
    "def containsLoop(instructions):\n",
    "    pc = 0\n",
    "    accum = 0\n",
    "    infiniteLoopTracker = [0] * len(data)\n",
    "\n",
    "    while pc < len(instructions) and infiniteLoopTracker[pc] == 0:\n",
    "        instruction, argument  = instructions[pc].split(' ')\n",
    "        infiniteLoopTracker[pc] = 1\n",
    "        # print(f'pc={pc}')\n",
    "        if instruction == \"acc\":\n",
    "            accum += int(argument)\n",
    "            # print(f'accum={accum}')\n",
    "            pc += 1\n",
    "        elif instruction == \"jmp\":\n",
    "            pc += int(argument)\n",
    "        else:\n",
    "            pc += 1\n",
    "    if pc >= len(instructions):\n",
    "        return False, accum\n",
    "    return True, accum"
   ]
  },
  {
   "cell_type": "code",
   "execution_count": 5,
   "metadata": {},
   "outputs": [],
   "source": [
    "def findCorruptValueBruteForce(instructions):\n",
    "    # at each jmp or nop flip and test if that flip contains a loop\n",
    "    for count, i in enumerate(instructions):\n",
    "        if 'jmp' in i:\n",
    "            instructions[count] = instructions[count].replace('jmp','nop')\n",
    "            loop, accum = containsLoop(instructions)\n",
    "            instructions[count] = instructions[count].replace('nop','jmp')\n",
    "            if not loop:\n",
    "                return accum\n",
    "        elif 'nop' in i:\n",
    "            instructions[count] = instructions[count].replace('nop','jmp')\n",
    "            loop, accum = containsLoop(instructions)\n",
    "            instructions[count] = instructions[count].replace('jmp','nop')\n",
    "            if not loop:\n",
    "                return accum\n",
    "            \n",
    "    return None\n"
   ]
  },
  {
   "cell_type": "code",
   "execution_count": 6,
   "metadata": {},
   "outputs": [
    {
     "output_type": "stream",
     "name": "stdout",
     "text": [
      "0.021140962999993462\n"
     ]
    }
   ],
   "source": [
    "from timeit import default_timer as timer\n",
    "start = timer()\n",
    "\n",
    "findCorruptValueBruteForce(data)\n",
    "end = timer()\n",
    "print(end - start)"
   ]
  }
 ]
}