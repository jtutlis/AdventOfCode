{
 "metadata": {
  "language_info": {
   "codemirror_mode": {
    "name": "ipython",
    "version": 3
   },
   "file_extension": ".py",
   "mimetype": "text/x-python",
   "name": "python",
   "nbconvert_exporter": "python",
   "pygments_lexer": "ipython3",
   "version": "3.8.6-final"
  },
  "orig_nbformat": 2,
  "kernelspec": {
   "name": "python3",
   "display_name": "Python 3.8.6 64-bit",
   "metadata": {
    "interpreter": {
     "hash": "0adcc2737ebf6a4a119f135174df96668767fca1ef1112612db5ecadf2b6d608"
    }
   }
  }
 },
 "nbformat": 4,
 "nbformat_minor": 2,
 "cells": [
  {
   "cell_type": "code",
   "execution_count": 1,
   "metadata": {},
   "outputs": [],
   "source": [
    "from timeit import default_timer as timer\n",
    "\n",
    "f = open(\"data.txt\", \"r\")\n",
    "data = f.readlines()\n",
    "data = [int(x.strip('\\n')) for x in data]"
   ]
  },
  {
   "cell_type": "code",
   "execution_count": 2,
   "metadata": {},
   "outputs": [],
   "source": [
    "data.sort()\n",
    "def part1():\n",
    "    prev = 0\n",
    "    one = 0\n",
    "    three = 1\n",
    "    for d in data:\n",
    "        if d - prev == 1:\n",
    "            one += 1\n",
    "        elif d - prev == 3:\n",
    "            three += 1\n",
    "        else:\n",
    "            print(prev, d)\n",
    "        prev = d\n",
    "    print(f'one={one} three={three}')\n",
    "    return one * three\n",
    "\n",
    "\n"
   ]
  },
  {
   "cell_type": "code",
   "execution_count": 3,
   "metadata": {},
   "outputs": [
    {
     "output_type": "stream",
     "name": "stdout",
     "text": [
      "one=64 three=30\n"
     ]
    },
    {
     "output_type": "execute_result",
     "data": {
      "text/plain": [
       "1920"
      ]
     },
     "metadata": {},
     "execution_count": 3
    }
   ],
   "source": [
    "part1()"
   ]
  },
  {
   "cell_type": "code",
   "execution_count": 4,
   "metadata": {},
   "outputs": [],
   "source": [
    "### part 2\n",
    "# adapters -> list of adapters\n",
    "from functools import lru_cache\n",
    "\n",
    "#@lru_cache(maxsize=len(data)) \n",
    "@lru_cache(maxsize=2) \n",
    "def howManyPermutations(prevIndex):\n",
    "    jolts = 0\n",
    "    if prevIndex != -1: ## start condition\n",
    "        jolts =  data[prevIndex]\n",
    "    if jolts == data[-1]:\n",
    "        return 1\n",
    "    # find possible next adapters\n",
    "    nextIndex = prevIndex + 1\n",
    "    count = 0\n",
    "    while nextIndex < len(data)  and data[nextIndex] - jolts <= 3:\n",
    "        # print(jolts, data[nextIndex])\n",
    "        count += howManyPermutations(nextIndex)\n",
    "        nextIndex += 1\n",
    "    return count\n"
   ]
  },
  {
   "cell_type": "code",
   "execution_count": 5,
   "metadata": {},
   "outputs": [
    {
     "output_type": "stream",
     "name": "stdout",
     "text": [
      "howManyPermutations 5.56690000053095e-05\n"
     ]
    }
   ],
   "source": [
    "howManyPermutations(-1)\n",
    "\n",
    "start = timer()\n",
    "# assert(howManyPermutations())\n",
    "end = timer()\n",
    "print(howManyPermutations.__name__, end - start)\n"
   ]
  },
  {
   "cell_type": "code",
   "execution_count": 6,
   "metadata": {},
   "outputs": [
    {
     "output_type": "execute_result",
     "data": {
      "text/plain": [
       "CacheInfo(hits=73, misses=133, maxsize=2, currsize=2)"
      ]
     },
     "metadata": {},
     "execution_count": 6
    }
   ],
   "source": [
    "howManyPermutations.cache_info()"
   ]
  },
  {
   "cell_type": "code",
   "execution_count": null,
   "metadata": {},
   "outputs": [],
   "source": [
    "def part2DP():\n",
    "    "
   ]
  }
 ]
}