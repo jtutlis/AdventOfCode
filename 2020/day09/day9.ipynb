{
 "metadata": {
  "language_info": {
   "codemirror_mode": {
    "name": "ipython",
    "version": 3
   },
   "file_extension": ".py",
   "mimetype": "text/x-python",
   "name": "python",
   "nbconvert_exporter": "python",
   "pygments_lexer": "ipython3",
   "version": "3.8.6-final"
  },
  "orig_nbformat": 2,
  "kernelspec": {
   "name": "python3",
   "display_name": "Python 3.8.6 64-bit",
   "metadata": {
    "interpreter": {
     "hash": "0adcc2737ebf6a4a119f135174df96668767fca1ef1112612db5ecadf2b6d608"
    }
   }
  }
 },
 "nbformat": 4,
 "nbformat_minor": 2,
 "cells": [
  {
   "cell_type": "code",
   "execution_count": 33,
   "metadata": {},
   "outputs": [],
   "source": [
    "from timeit import default_timer as timer\n",
    "\n",
    "f = open(\"data.txt\", \"r\")\n",
    "data = f.readlines()\n",
    "data = [int(x.strip('\\n')) for x in data]"
   ]
  },
  {
   "cell_type": "code",
   "execution_count": 34,
   "metadata": {},
   "outputs": [
    {
     "output_type": "stream",
     "name": "stdout",
     "text": [
      "756008079\n"
     ]
    }
   ],
   "source": [
    "def part1():\n",
    "    history = data[:25]\n",
    "    for curr in data[25:]:\n",
    "        match = False\n",
    "        for index, h in enumerate(history):\n",
    "            if (\n",
    "                (goal := curr - h) in history \n",
    "                and (goal != h or (goal == h and history.count(h) > 1))\n",
    "            ):\n",
    "                match = True\n",
    "                break\n",
    "        if not match:\n",
    "            return curr\n",
    "            \n",
    "        \n",
    "        history.pop(0)\n",
    "        history.append(curr)\n",
    "ansPart1 = part1()\n",
    "print(ansPart1)      \n"
   ]
  },
  {
   "cell_type": "code",
   "execution_count": 35,
   "metadata": {
    "tags": []
   },
   "outputs": [],
   "source": [
    "### part 2\n",
    "# find a contiguous set of at least two numbers in your list which sum to the invalid number from step 1: 756008079\n",
    "# find index of ansPart1\n",
    "# work high -> low, this should be faster??\n",
    "\n",
    "def part2Enumerate():\n",
    "    ansIndex = data.index(ansPart1)\n",
    "\n",
    "    for index, i in enumerate(data[:ansIndex]):\n",
    "        currSum = i\n",
    "        \n",
    "        for index2, j in enumerate(data[index+1:ansIndex]):\n",
    "            currSum += j\n",
    "            if currSum == ansPart1:\n",
    "                # print(data[index:index2+index+2])\n",
    "                # print(sum(data[index:index2+index+2]))\n",
    "                return (min(data[index:index2+index+2])+max(data[index:index2+index+2]))\n",
    "\n",
    "            if currSum > ansPart1:\n",
    "                break\n",
    "        # print(f'index={index} i={i} currSum={currSum}')"
   ]
  },
  {
   "cell_type": "code",
   "execution_count": 36,
   "metadata": {},
   "outputs": [],
   "source": [
    "### fastest solution\n",
    "def part2EnumerateReverse():\n",
    "    ansIndex = data.index(ansPart1)\n",
    "\n",
    "    for index, i in enumerate(reversed(data[1:ansIndex])):\n",
    "        currSum = i\n",
    "        index = ansIndex - index - 1\n",
    "        \n",
    "        for index2, j in enumerate(reversed(data[:index])):\n",
    "            currSum += j\n",
    "            if currSum == ansPart1:\n",
    "                return (min(data[index-index2-1:index-1])+max(data[index-index2-1:index-1]))\n",
    "\n",
    "            if currSum > ansPart1:\n",
    "                break"
   ]
  },
  {
   "cell_type": "code",
   "execution_count": 37,
   "metadata": {},
   "outputs": [],
   "source": [
    "def part2EnumerateReverseExtraIf():\n",
    "    ansIndex = data.index(ansPart1)\n",
    "\n",
    "    for index, i in enumerate(reversed(data[1:ansIndex])):\n",
    "        currSum = i\n",
    "        index = ansIndex - index - 1\n",
    "\n",
    "        if currSum < ansPart1:\n",
    "        \n",
    "            for index2, j in enumerate(reversed(data[:index])):\n",
    "                currSum += j\n",
    "                if currSum == ansPart1:\n",
    "                    return (min(data[index-index2-1:index-1])+max(data[index-index2-1:index-1]))\n",
    "\n",
    "                if currSum > ansPart1:\n",
    "                    break"
   ]
  },
  {
   "cell_type": "code",
   "execution_count": 38,
   "metadata": {},
   "outputs": [
    {
     "output_type": "execute_result",
     "data": {
      "text/plain": [
       "93727241"
      ]
     },
     "metadata": {},
     "execution_count": 38
    }
   ],
   "source": [
    "part2EnumerateReverseExtraIf()"
   ]
  },
  {
   "cell_type": "code",
   "execution_count": 39,
   "metadata": {},
   "outputs": [],
   "source": [
    "def part2UsingSum():\n",
    "    ansIndex = data.index(ansPart1)\n",
    "\n",
    "    for index, i in enumerate(data[:ansIndex]):\n",
    "        for index2, j in enumerate(data[index+1:ansIndex]):\n",
    "            currSum = sum(data[index:index2+index+2])\n",
    "            if currSum == ansPart1:\n",
    "                return (min(data[index:index2+index+2])+max(data[index:index2+index+2]))\n",
    "\n",
    "            if currSum > ansPart1:\n",
    "                break"
   ]
  },
  {
   "cell_type": "code",
   "execution_count": 40,
   "metadata": {},
   "outputs": [],
   "source": [
    "def part2UsingSumNoGreaterThan():\n",
    "    ansIndex = data.index(ansPart1)\n",
    "\n",
    "    for index, i in enumerate(data[:ansIndex]):\n",
    "        for index2, j in enumerate(data[index+1:ansIndex]):\n",
    "            if sum(data[index:index2+index+2]) == ansPart1:\n",
    "                return (min(data[index:index2+index+2])+max(data[index:index2+index+2]))"
   ]
  },
  {
   "cell_type": "code",
   "execution_count": 41,
   "metadata": {},
   "outputs": [],
   "source": [
    "def part2UsingSumWhileLoop():\n",
    "    ansIndex = data.index(ansPart1)\n",
    "    index1 = 0\n",
    "    index2 = 1\n",
    "\n",
    "    while (a := sum(data[index1:index2])) != ansPart1 :\n",
    "        if a < ansPart1:\n",
    "            index2 += 1\n",
    "        else:\n",
    "            index1 += 1\n",
    "            index2 = index1 + 1\n",
    "    return min(data[index1:index2])+max(data[index1:index2])"
   ]
  },
  {
   "cell_type": "code",
   "execution_count": 42,
   "metadata": {},
   "outputs": [
    {
     "output_type": "stream",
     "name": "stdout",
     "text": [
      "part2EnumerateReverse 0.00036419700018086587\n",
      "part2EnumerateReverse 0.00038794000010966556\n",
      "part2UsingSum 0.3079325400003654\n",
      "part2UsingSumNoGreaterThan 0.5153640069997891\n",
      "part2UsingSumWhileLoop 0.28113460700024007\n"
     ]
    }
   ],
   "source": [
    "\n",
    "# start = timer()\n",
    "# assert(part2Enumerate() == 93727241)\n",
    "# end = timer()\n",
    "# print(part2Enumerate.__name__, end - start)\n",
    "\n",
    "start = timer()\n",
    "assert(part2EnumerateReverse() == 93727241)\n",
    "end = timer()\n",
    "print(part2EnumerateReverse.__name__, end - start)\n",
    "\n",
    "start = timer()\n",
    "assert(part2EnumerateReverseExtraIf() == 93727241)\n",
    "end = timer()\n",
    "print(part2EnumerateReverseExtraIf.__name__, end - start)\n",
    "\n",
    "\n",
    "start = timer()\n",
    "assert(part2UsingSum() == 93727241)\n",
    "end = timer()\n",
    "print(part2UsingSum.__name__, end - start)\n",
    "\n",
    "start = timer()\n",
    "assert(part2UsingSumNoGreaterThan() == 93727241)\n",
    "end = timer()\n",
    "print(part2UsingSumNoGreaterThan.__name__, end - start)\n",
    "\n",
    "start = timer()\n",
    "assert(part2UsingSumWhileLoop() == 93727241)\n",
    "end = timer()\n",
    "print(part2UsingSumWhileLoop.__name__, end - start)\n"
   ]
  },
  {
   "cell_type": "code",
   "execution_count": null,
   "metadata": {},
   "outputs": [],
   "source": []
  }
 ]
}