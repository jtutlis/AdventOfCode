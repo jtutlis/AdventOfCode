{
 "metadata": {
  "language_info": {
   "codemirror_mode": {
    "name": "ipython",
    "version": 3
   },
   "file_extension": ".py",
   "mimetype": "text/x-python",
   "name": "python",
   "nbconvert_exporter": "python",
   "pygments_lexer": "ipython3",
   "version": "3.8.6-final"
  },
  "orig_nbformat": 2,
  "kernelspec": {
   "name": "python3",
   "display_name": "Python 3.8.6 64-bit",
   "metadata": {
    "interpreter": {
     "hash": "0adcc2737ebf6a4a119f135174df96668767fca1ef1112612db5ecadf2b6d608"
    }
   }
  }
 },
 "nbformat": 4,
 "nbformat_minor": 2,
 "cells": [
  {
   "cell_type": "code",
   "execution_count": 1,
   "metadata": {},
   "outputs": [],
   "source": [
    "f = open(\"data.txt\", \"r\")\n",
    "data = f.readlines()\n",
    "data = [x.strip('\\n').split(': ') for x in data]"
   ]
  },
  {
   "cell_type": "code",
   "execution_count": 2,
   "metadata": {},
   "outputs": [],
   "source": [
    "def validPart1(rule, password):\n",
    "    minCount = rule.split('-')[0]\n",
    "    maxCount, letter = rule.split('-')[1].split(' ')\n",
    "    count = password.count(letter)\n",
    "    # print(minCount, maxCount, letter, count)\n",
    "    return int(minCount) <= count <= int(maxCount)"
   ]
  },
  {
   "cell_type": "code",
   "execution_count": 3,
   "metadata": {},
   "outputs": [
    {
     "output_type": "stream",
     "name": "stdout",
     "text": [
      "517\n"
     ]
    }
   ],
   "source": [
    "count = 0\n",
    "for x in data:\n",
    "    if validPart1(x[0], x[1]):\n",
    "        count += 1\n",
    "print(count)"
   ]
  },
  {
   "cell_type": "code",
   "execution_count": 4,
   "metadata": {},
   "outputs": [],
   "source": [
    "def validPart2(rule, password):\n",
    "    pos1 = rule.split('-')[0]\n",
    "    pos2, letter = rule.split('-')[1].split(' ')\n",
    "    return (password[int(pos1)-1] == letter) ^ (password[int(pos2)-1] == letter)\n",
    "    "
   ]
  },
  {
   "cell_type": "code",
   "execution_count": 5,
   "metadata": {
    "tags": []
   },
   "outputs": [
    {
     "output_type": "stream",
     "name": "stdout",
     "text": [
      "284\n"
     ]
    }
   ],
   "source": [
    "count = 0\n",
    "for x in data:\n",
    "    if validPart2(x[0], x[1]):\n",
    "        count += 1\n",
    "print(count)"
   ]
  }
 ]
}