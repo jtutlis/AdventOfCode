{
 "metadata": {
  "language_info": {
   "codemirror_mode": {
    "name": "ipython",
    "version": 3
   },
   "file_extension": ".py",
   "mimetype": "text/x-python",
   "name": "python",
   "nbconvert_exporter": "python",
   "pygments_lexer": "ipython3",
   "version": "3.8.6-final"
  },
  "orig_nbformat": 2,
  "kernelspec": {
   "name": "python3",
   "display_name": "Python 3.8.6 64-bit",
   "metadata": {
    "interpreter": {
     "hash": "0adcc2737ebf6a4a119f135174df96668767fca1ef1112612db5ecadf2b6d608"
    }
   }
  }
 },
 "nbformat": 4,
 "nbformat_minor": 2,
 "cells": [
  {
   "cell_type": "code",
   "execution_count": 1,
   "metadata": {},
   "outputs": [],
   "source": [
    "f = open(\"data.txt\", \"r\")\n",
    "data = f.read()\n",
    "data = data.split('\\n\\n')\n",
    "data = [x.replace('\\n', ' ') for x in data]"
   ]
  },
  {
   "cell_type": "code",
   "execution_count": 2,
   "metadata": {},
   "outputs": [],
   "source": [
    "fields = ['byr', 'iyr', 'eyr', 'hgt', 'hcl', 'ecl', 'pid']\n",
    "def validPassport(info):\n",
    "    for a in fields:\n",
    "        if a not in info:\n",
    "            return False\n",
    "    return True \n"
   ]
  },
  {
   "cell_type": "code",
   "execution_count": 3,
   "metadata": {},
   "outputs": [
    {
     "output_type": "stream",
     "name": "stdout",
     "text": [
      "254\n"
     ]
    }
   ],
   "source": [
    "count = 0\n",
    "for d in data:\n",
    "    if validPassport(d):\n",
    "        count += 1\n",
    "print(count)"
   ]
  },
  {
   "cell_type": "code",
   "execution_count": 4,
   "metadata": {},
   "outputs": [],
   "source": [
    "## Part 2\n",
    "abcdef = ['a','b','c','d','e','f']\n",
    "eyeColors = ['amb','blu','brn','gry','grn','hzl','oth']\n",
    "\n",
    "switch = {\n",
    "    'byr': lambda x: len(x) == 4 and x.isdigit() and 1920 <= int(x) <= 2002,\n",
    "    'iyr': lambda x: len(x) == 4 and x.isdigit() and 2010 <= int(x) <= 2020,\n",
    "    'eyr': lambda x: len(x) == 4 and x.isdigit() and 2020 <= int(x) <= 2030,\n",
    "    'hgt': lambda x: 150 <= int(x.replace('cm','')) <= 193 if 'cm' in x else 59 <= int(x.replace('in','')) <= 76,\n",
    "    'hcl': lambda x: x[0] == '#' and len(x) == 7 and False not in [i.isdigit() or i in abcdef for i in x[1:]],\n",
    "    'ecl': lambda x: len(x) == 3 and x in eyeColors,\n",
    "    'pid': lambda x: len(x) == 9 and x.isdigit(),\n",
    "    'cid': lambda x: True,\n",
    "}\n",
    "\n",
    "def deepPassportValidation(info):\n",
    "    checkedFields = set()\n",
    "    for i in info.split(' '):\n",
    "        field, value = i.split(':')\n",
    "        if not switch.get(field)(value):\n",
    "            return False\n",
    "        checkedFields.add(field)\n",
    "    return len(checkedFields) == len(switch) or (len(checkedFields) == len(switch)-1 and 'cid' not in checkedFields) "
   ]
  },
  {
   "cell_type": "code",
   "execution_count": 5,
   "metadata": {},
   "outputs": [
    {
     "output_type": "stream",
     "name": "stdout",
     "text": [
      "184\n"
     ]
    }
   ],
   "source": [
    "count = 0\n",
    "for d in data:\n",
    "    if deepPassportValidation(d):\n",
    "        count += 1\n",
    "print(count)"
   ]
  }
 ]
}