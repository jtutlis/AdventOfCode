{
 "metadata": {
  "language_info": {
   "codemirror_mode": {
    "name": "ipython",
    "version": 3
   },
   "file_extension": ".py",
   "mimetype": "text/x-python",
   "name": "python",
   "nbconvert_exporter": "python",
   "pygments_lexer": "ipython3",
   "version": "3.8.6-final"
  },
  "orig_nbformat": 2,
  "kernelspec": {
   "name": "python3",
   "display_name": "Python 3.8.6 64-bit",
   "metadata": {
    "interpreter": {
     "hash": "0adcc2737ebf6a4a119f135174df96668767fca1ef1112612db5ecadf2b6d608"
    }
   }
  }
 },
 "nbformat": 4,
 "nbformat_minor": 2,
 "cells": [
  {
   "cell_type": "code",
   "execution_count": 1,
   "metadata": {},
   "outputs": [],
   "source": [
    "f = open(\"data.txt\", \"r\")\n",
    "data = f.readlines()\n",
    "data = [int(x.strip('\\n')) for x in data]"
   ]
  },
  {
   "cell_type": "code",
   "execution_count": 4,
   "metadata": {},
   "outputs": [
    {
     "output_type": "stream",
     "name": "stdout",
     "text": [
      "870331\n"
     ]
    }
   ],
   "source": [
    "m = set()\n",
    "for x in data:\n",
    "    if 2020 - x in m:\n",
    "        print(x * (2020-x))\n",
    "    m.add(x)"
   ]
  },
  {
   "source": [
    "### this is a very smooth brain solution\n",
    "for a in range(0, len(data)-2):\n",
    "    for b in range(a+1, len(data)-1):\n",
    "        for c in range(b+1, len(data)):\n",
    "            if data[a]+data[b]+data[c] == 2020:\n",
    "                print(data[a]*data[b]*data[c])"
   ],
   "cell_type": "code",
   "metadata": {
    "tags": []
   },
   "execution_count": 6,
   "outputs": [
    {
     "output_type": "stream",
     "name": "stdout",
     "text": [
      "283025088\n"
     ]
    }
   ]
  },
  {
   "cell_type": "code",
   "execution_count": 11,
   "metadata": {},
   "outputs": [
    {
     "output_type": "stream",
     "name": "stdout",
     "text": [
      "283025088\n283025088\n283025088\n"
     ]
    }
   ],
   "source": [
    "### this is still a smoothed brain solution but has a wrinkle or two\n",
    "for a in range(0, len(data)-2):\n",
    "    for b in range(a+1, len(data)-1):\n",
    "        if (2020 - data[a] - data[b]) in data:\n",
    "            print(data[a]*data[b]*(2020 - data[a] - data[b]))\n",
    "            break"
   ]
  },
  {
   "cell_type": "code",
   "execution_count": null,
   "metadata": {},
   "outputs": [],
   "source": []
  }
 ]
}