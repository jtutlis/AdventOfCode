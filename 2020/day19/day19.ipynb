{
 "metadata": {
  "language_info": {
   "codemirror_mode": {
    "name": "ipython",
    "version": 3
   },
   "file_extension": ".py",
   "mimetype": "text/x-python",
   "name": "python",
   "nbconvert_exporter": "python",
   "pygments_lexer": "ipython3",
   "version": "3.8.6-final"
  },
  "orig_nbformat": 2,
  "kernelspec": {
   "name": "python3",
   "display_name": "Python 3.8.6 64-bit",
   "metadata": {
    "interpreter": {
     "hash": "0adcc2737ebf6a4a119f135174df96668767fca1ef1112612db5ecadf2b6d608"
    }
   }
  }
 },
 "nbformat": 4,
 "nbformat_minor": 2,
 "cells": [
  {
   "cell_type": "code",
   "execution_count": 1,
   "metadata": {},
   "outputs": [],
   "source": [
    "from copy import deepcopy\n",
    "from functools import lru_cache\n",
    "\n",
    "\n",
    "f = open(\"data.txt\", \"r\")\n",
    "data = f.read()\n",
    "rules, messages = data.split('\\n\\n')\n",
    "rules = rules.split('\\n')\n",
    "messages = messages.split('\\n')\n",
    "# data = [x.strip('\\n') for x in data]\n",
    "\n"
   ]
  },
  {
   "cell_type": "code",
   "execution_count": 2,
   "metadata": {},
   "outputs": [
    {
     "output_type": "execute_result",
     "data": {
      "text/plain": [
       "[['8', '11']]"
      ]
     },
     "metadata": {},
     "execution_count": 2
    }
   ],
   "source": [
    "# Part 1 Monster Messages\n",
    "# why use re when I can just do something simple like NFAs myself?????\n",
    "\n",
    "def parseRules(rules):\n",
    "    table = {}\n",
    "\n",
    "    for rule in rules:\n",
    "        state, transFunction = rule.split(': ')\n",
    "        # the transition function can be a letter, 1 or 2 states, or between a set of two states\n",
    "        if '\\\"' in transFunction: # a letter\n",
    "            table[state] = transFunction.strip('\\\"')\n",
    "        else:\n",
    "            # table[state] = transFunction.split(' | ')\n",
    "\n",
    "            table[state] = [x.split(' ') for x in transFunction.split(' | ')]\n",
    "        \n",
    "\n",
    "\n",
    "        # print(state)\n",
    "        # print(transFunction)\n",
    "    return table\n",
    "table = parseRules(rules)\n",
    "table['0']"
   ]
  },
  {
   "cell_type": "code",
   "execution_count": 3,
   "metadata": {},
   "outputs": [],
   "source": [
    "# string: aaabbbb\n",
    "# rule: 1 2\n",
    "# how do we know where rule 1 ends??\n",
    "# we can expand the range we check until it works or doesnt\n"
   ]
  },
  {
   "cell_type": "code",
   "execution_count": 4,
   "metadata": {},
   "outputs": [],
   "source": [
    "# check if a  single rule maps to a char if not then it goes back to checkWholeRule with the next rule\n",
    "# message is a substring of orginal message\n",
    "# partialRule is just a single rule\n",
    "@lru_cache(maxsize=100000) \n",
    "def checkPartialRule(message, partialRule):\n",
    "    # print(checkPartialRule.__name__, f'message={message}, partialRule={partialRule}')\n",
    "    # get the rule for partialRule\n",
    "    rule = table[partialRule]\n",
    "    # print(f'\\trule={rule}')\n",
    "    # print(rule)\n",
    "    if len(rule) == 1 and rule[0][0].isalpha():\n",
    "        # print(f'returns {message == rule}')\n",
    "        return message == rule\n",
    "    else:\n",
    "        # print(f'returns checkWholeRule')\n",
    "        return checkWholeRule(message, rule)"
   ]
  },
  {
   "cell_type": "code",
   "execution_count": 5,
   "metadata": {},
   "outputs": [],
   "source": [
    "def checkWholeRule(message, rules):\n",
    "    # print(checkWholeRule.__name__, f'message={message}, rules={rules}')\n",
    "\n",
    "    for rule in rules:\n",
    "        # keep track of the last index of each partial rule\n",
    "        if len(rule) > len(message):\n",
    "            # print('\\tFALSE: len(rule) > len(message)')\n",
    "            return False\n",
    "        # ruleWindows = list(reversed(range(len(rule))))\n",
    "        # ruleWindows = list(map(lambda x: len(message) - x, ruleWindows))\n",
    "        # calcWindowSizes(ruleWindows)\n",
    "\n",
    "        ruleWindows = list(range(len(rule)))\n",
    "        ruleWindows[-1] = len(message)\n",
    "        ruleWindows = list(map(lambda x: x+1, ruleWindows))\n",
    "        for currRuleWindow in calcWindowSizes(ruleWindows):\n",
    "            # print(checkWholeRule.__name__, f'message={message}, rules={rules}')\n",
    "            # print(f'\\tcurrRuleWindow={currRuleWindow}')\n",
    "            # check if the current rule windows are valid\n",
    "            prevRW = 0\n",
    "            validRules = True\n",
    "            for rw, r in zip(currRuleWindow, rule):\n",
    "                # print(f'\\trw={rw}, r={r}')\n",
    "                if not checkPartialRule(message[prevRW:rw], r):\n",
    "                    validRules = False\n",
    "                    break\n",
    "                prevRW = rw\n",
    "            if validRules:\n",
    "                return True\n"
   ]
  },
  {
   "cell_type": "code",
   "execution_count": 6,
   "metadata": {},
   "outputs": [],
   "source": [
    "# damn no good tools to do this\n",
    "# guess we gotta write out own\n",
    "def calcWindowSizes(ruleWindows):\n",
    "    rw = ruleWindows[:]\n",
    "    currRW = ruleWindows[:]\n",
    "    # we dont know how many elements are in ruleWindows by default this\n",
    "    # the first time we want to yield the currrent ruleWindows\n",
    "    yield rw\n",
    "    if len(rw) > 1:\n",
    "        for i in range(1,rw[-1]-len(rw)+2):\n",
    "            currRW[0] = i\n",
    "            yield from calcWindowSizesHelper(currRW, ruleWindows[1:], 1)\n",
    "\n",
    "\n",
    "def calcWindowSizesHelper(currRW, ruleWindows, index):\n",
    "    # print(ruleWindows)\n",
    "    # print(\"two\", ruleWindows[0])\n",
    "    if len(ruleWindows) > 1:\n",
    "        curr = currRW[index-1]+1\n",
    "        while curr < currRW[index+1]:\n",
    "            currRW[index] = curr\n",
    "            # currRW[index+1] = currRW[index+1] +1\n",
    "            yield from calcWindowSizesHelper(currRW, ruleWindows[1:], index+1)\n",
    "            curr += 1\n",
    "    else:\n",
    "        yield currRW\n"
   ]
  },
  {
   "cell_type": "code",
   "execution_count": 7,
   "metadata": {},
   "outputs": [],
   "source": [
    "import sys\n",
    "def checkMessages(messages):\n",
    "    count = 0\n",
    "    # a = len(messages)\n",
    "    # b = 0\n",
    "    for message in messages:\n",
    "        if checkWholeRule(message, table['0']):\n",
    "            count += 1\n",
    "        # b += 1\n",
    "        # print(f'{b}/{a}')\n",
    "    return count"
   ]
  },
  {
   "cell_type": "code",
   "execution_count": 8,
   "metadata": {
    "tags": []
   },
   "outputs": [
    {
     "output_type": "stream",
     "name": "stdout",
     "text": [
      "part1=230\n",
      "part2=341\n"
     ]
    }
   ],
   "source": [
    "# takes a hot sec to run\n",
    "\n",
    "#part 1\n",
    "print(f'part1={checkMessages(messages)}')\n",
    "\n",
    "# # part 2\n",
    "table['8'] = [['42'],['42','8']]\n",
    "table['11'] = [['42','31'],['42','11','31']]\n",
    "\n",
    "print(f'part2={checkMessages(messages)}')\n",
    "\n"
   ]
  },
  {
   "cell_type": "code",
   "execution_count": null,
   "metadata": {},
   "outputs": [],
   "source": []
  }
 ]
}