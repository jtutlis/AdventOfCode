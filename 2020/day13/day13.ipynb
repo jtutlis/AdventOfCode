{
 "metadata": {
  "language_info": {
   "codemirror_mode": {
    "name": "ipython",
    "version": 3
   },
   "file_extension": ".py",
   "mimetype": "text/x-python",
   "name": "python",
   "nbconvert_exporter": "python",
   "pygments_lexer": "ipython3",
   "version": "3.8.6-final"
  },
  "orig_nbformat": 2,
  "kernelspec": {
   "name": "python3",
   "display_name": "Python 3.8.6 64-bit",
   "metadata": {
    "interpreter": {
     "hash": "0adcc2737ebf6a4a119f135174df96668767fca1ef1112612db5ecadf2b6d608"
    }
   }
  }
 },
 "nbformat": 4,
 "nbformat_minor": 2,
 "cells": [
  {
   "cell_type": "code",
   "execution_count": 1,
   "metadata": {},
   "outputs": [],
   "source": [
    "from timeit import default_timer as timer\n",
    "\n",
    "f = open(\"data.txt\", \"r\")\n",
    "data = f.readlines()\n",
    "data = [x.strip('\\n') for x in data]\n",
    "arrivalTime = int(data[0])\n",
    "busIDs = [int(x) for x in data[1].split(',') if x is not 'x']"
   ]
  },
  {
   "cell_type": "code",
   "execution_count": 2,
   "metadata": {},
   "outputs": [
    {
     "output_type": "execute_result",
     "data": {
      "text/plain": [
       "[19, 37, 751, 29, 13, 23, 431, 41, 17]"
      ]
     },
     "metadata": {},
     "execution_count": 2
    }
   ],
   "source": [
    "busIDs"
   ]
  },
  {
   "cell_type": "code",
   "execution_count": 3,
   "metadata": {},
   "outputs": [],
   "source": [
    "busIDs\n",
    "import math\n",
    "def part1(arrTime, busTimes):\n",
    "    bestBus, bestTime = -1, math.inf\n",
    "    for busTime in busTimes:\n",
    "        estimate = (arrTime // busTime) + 1\n",
    "        diff = estimate * busTime - arrTime\n",
    "        if diff < bestTime:\n",
    "            bestTime = diff\n",
    "            bestBus = busTime\n",
    "    return bestBus * bestTime"
   ]
  },
  {
   "cell_type": "code",
   "execution_count": 4,
   "metadata": {},
   "outputs": [
    {
     "output_type": "execute_result",
     "data": {
      "text/plain": [
       "5257"
      ]
     },
     "metadata": {},
     "execution_count": 4
    }
   ],
   "source": [
    "part1(arrivalTime, busIDs)"
   ]
  },
  {
   "cell_type": "code",
   "execution_count": 12,
   "metadata": {},
   "outputs": [],
   "source": [
    "busIDs = [(int(x), index) for index, x in enumerate(data[1].split(',')) if x is not 'x']\n",
    "\n",
    "example1 = [(x, index) for index, x in enumerate([67,7,59,61])]\n",
    "example2 = [(x, index) for index, x in enumerate([67,'x',7,59,61]) if x is not 'x']\n",
    "example3 = [(x, index) for index, x in enumerate([67,7,x,59,61]) if x is not 'x']\n",
    "example4 = [(x, index) for index, x in enumerate([1789,37,47,1889]) if x is not 'x']\n",
    "\n",
    "\n",
    "1789,37,47,1889\n",
    "\n",
    "\n"
   ]
  },
  {
   "cell_type": "code",
   "execution_count": 6,
   "metadata": {},
   "outputs": [],
   "source": [
    "# ahhhh i thought i was done with discrete mathhhhhhhhhhh\n",
    "def part2BruteForce(busTimes):\n",
    "    currTime,_ = busTimes[0]\n",
    "    increment = currTime\n",
    "    found = False\n",
    "    while not found:\n",
    "        allTrue = True\n",
    "        for time, index in busTimes[1:]:\n",
    "            if (currTime + index) % time != 0:\n",
    "                allTrue = False\n",
    "                break\n",
    "        if allTrue:\n",
    "            return currTime\n",
    "        else: \n",
    "            currTime += increment\n",
    "            # print(currTime)\n",
    "\n",
    "    "
   ]
  },
  {
   "cell_type": "code",
   "execution_count": 9,
   "metadata": {},
   "outputs": [
    {
     "output_type": "stream",
     "name": "stdout",
     "text": [
      "754018\npart2BruteForce 0.004991706000055274\n"
     ]
    }
   ],
   "source": [
    "start = timer()\n",
    "print(part2BruteForce(example1))\n",
    "end = timer()\n",
    "print(part2BruteForce.__name__, end - start)"
   ]
  },
  {
   "cell_type": "code",
   "execution_count": 14,
   "metadata": {},
   "outputs": [
    {
     "output_type": "stream",
     "name": "stdout",
     "text": [
      "779210\npart2BruteForce 0.004484331000185193\n"
     ]
    }
   ],
   "source": [
    "start = timer()\n",
    "print(part2BruteForce(example2))\n",
    "end = timer()\n",
    "print(part2BruteForce.__name__, end - start)"
   ]
  },
  {
   "cell_type": "code",
   "execution_count": null,
   "metadata": {},
   "outputs": [],
   "source": []
  }
 ]
}