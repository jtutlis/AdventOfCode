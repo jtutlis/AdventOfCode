{
 "metadata": {
  "language_info": {
   "codemirror_mode": {
    "name": "ipython",
    "version": 3
   },
   "file_extension": ".py",
   "mimetype": "text/x-python",
   "name": "python",
   "nbconvert_exporter": "python",
   "pygments_lexer": "ipython3",
   "version": "3.8.6-final"
  },
  "orig_nbformat": 2,
  "kernelspec": {
   "name": "python3",
   "display_name": "Python 3.8.6 64-bit",
   "metadata": {
    "interpreter": {
     "hash": "0adcc2737ebf6a4a119f135174df96668767fca1ef1112612db5ecadf2b6d608"
    }
   }
  }
 },
 "nbformat": 4,
 "nbformat_minor": 2,
 "cells": [
  {
   "cell_type": "code",
   "execution_count": 1,
   "metadata": {},
   "outputs": [],
   "source": [
    "from itertools import product\n",
    "\n",
    "f = open(\"data.txt\", \"r\")\n",
    "data = f.readlines()\n",
    "data = [list(x.strip('\\n')) for x in data]\n",
    "\n"
   ]
  },
  {
   "cell_type": "code",
   "execution_count": 2,
   "metadata": {},
   "outputs": [],
   "source": [
    "### Part 1 Conway Cubes\n",
    "# list???? nah\n",
    "# dict with key being tuple of coords and value can be how many adjacent cells there are\n",
    "# coords (x,y,z) -> (val, count of nearby neighbors)\n",
    "def part1(data, dim=3):\n",
    "    currState = parseInitState(data, dim)\n",
    "    CYCLES = 6\n",
    "    adjCells = list(product([-1, 0, 1], repeat=dim))\n",
    "\n",
    "    for _ in range(CYCLES):\n",
    "        nextState = {}\n",
    "        for parentCell in currState:\n",
    "            for adjCell in adjCells:\n",
    "                if adjCell != (0,) * dim:\n",
    "                    currCell = tuple(map(sum, zip(parentCell, adjCell)))\n",
    "                    # check if currCell is already in next state, if it is not create it\n",
    "                    # else increment value\n",
    "                    if currCell in nextState:\n",
    "                        cell, count = nextState[currCell]\n",
    "                        nextState[currCell] = (cell, count+1)\n",
    "                    else:\n",
    "                        nextState[currCell] = ('.',1)\n",
    "                else:\n",
    "                    if parentCell in nextState:\n",
    "                        cell, count = nextState[parentCell]\n",
    "                        nextState[parentCell] = ('#', count)\n",
    "                    else:\n",
    "                        nextState[parentCell] = ('#',0)\n",
    "        # generate next state\n",
    "        currState = {}\n",
    "        for coords in nextState:\n",
    "            cell, count = nextState[coords]\n",
    "            if cell == '#' and (count == 2 or count == 3):\n",
    "                currState[coords] = ('#',0)\n",
    "            elif cell == '.' and count == 3:\n",
    "                currState[coords] = ('#',0)\n",
    "    return len(currState)\n",
    "\n",
    "def parseInitState(arrState, dim):\n",
    "    initState = {}\n",
    "    pad = (0,) * (dim-2)\n",
    "    for indexY, arr in enumerate(arrState):\n",
    "        for indexX, val in enumerate(arr): \n",
    "            if val == '#':\n",
    "                initState[(indexX, indexY)+pad] = ('#', 0)\n",
    "    return initState\n",
    "\n"
   ]
  },
  {
   "cell_type": "code",
   "execution_count": 3,
   "metadata": {},
   "outputs": [
    {
     "output_type": "execute_result",
     "data": {
      "text/plain": [
       "382"
      ]
     },
     "metadata": {},
     "execution_count": 3
    }
   ],
   "source": [
    "# part1\n",
    "part1(data,3)"
   ]
  },
  {
   "cell_type": "code",
   "execution_count": 4,
   "metadata": {},
   "outputs": [
    {
     "output_type": "execute_result",
     "data": {
      "text/plain": [
       "2552"
      ]
     },
     "metadata": {},
     "execution_count": 4
    }
   ],
   "source": [
    "# part2\n",
    "part1(data,4)"
   ]
  },
  {
   "cell_type": "code",
   "execution_count": null,
   "metadata": {},
   "outputs": [],
   "source": []
  }
 ]
}