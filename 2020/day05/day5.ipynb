{
 "metadata": {
  "language_info": {
   "codemirror_mode": {
    "name": "ipython",
    "version": 3
   },
   "file_extension": ".py",
   "mimetype": "text/x-python",
   "name": "python",
   "nbconvert_exporter": "python",
   "pygments_lexer": "ipython3",
   "version": "3.8.6-final"
  },
  "orig_nbformat": 2,
  "kernelspec": {
   "name": "python3",
   "display_name": "Python 3.8.6 64-bit",
   "metadata": {
    "interpreter": {
     "hash": "0adcc2737ebf6a4a119f135174df96668767fca1ef1112612db5ecadf2b6d608"
    }
   }
  }
 },
 "nbformat": 4,
 "nbformat_minor": 2,
 "cells": [
  {
   "cell_type": "code",
   "execution_count": 1,
   "metadata": {},
   "outputs": [],
   "source": [
    "f = open(\"data.txt\", \"r\")\n",
    "data = f.readlines()\n",
    "data = [x.strip('\\n') for x in data]"
   ]
  },
  {
   "cell_type": "code",
   "execution_count": 2,
   "metadata": {},
   "outputs": [],
   "source": [
    "def getSeatID(boardingPass):\n",
    "    rowLow = 0\n",
    "    rowHigh = 127\n",
    "    colLow = 0\n",
    "    colHigh = 7\n",
    "\n",
    "    row = boardingPass[:7]\n",
    "    col = boardingPass[7:]\n",
    "    \n",
    "    for i in row:\n",
    "        if i == 'F':\n",
    "            rowHigh = (rowHigh + rowLow) // 2\n",
    "        else:\n",
    "            rowLow = (rowHigh + rowLow) // 2\n",
    "    for i in col:\n",
    "        if i == 'L':\n",
    "            colHigh = (colHigh + colLow) // 2\n",
    "        else:\n",
    "            colLow = (colHigh + colLow) // 2\n",
    "    return rowHigh * 8 + colHigh"
   ]
  },
  {
   "cell_type": "code",
   "execution_count": 3,
   "metadata": {},
   "outputs": [
    {
     "output_type": "stream",
     "name": "stdout",
     "text": [
      "974\n"
     ]
    }
   ],
   "source": [
    "high = 0\n",
    "for i in data:\n",
    "    if (a := getSeatID(i)) > high:\n",
    "        high = a\n",
    "print(high)"
   ]
  },
  {
   "cell_type": "code",
   "execution_count": 4,
   "metadata": {},
   "outputs": [],
   "source": [
    "### Part 2\n",
    "openSeats = [0] * (974+1)"
   ]
  },
  {
   "cell_type": "code",
   "execution_count": 5,
   "metadata": {},
   "outputs": [],
   "source": [
    "for i in data:\n",
    "    openSeats[getSeatID(i)] = 1"
   ]
  },
  {
   "cell_type": "code",
   "execution_count": 6,
   "metadata": {},
   "outputs": [],
   "source": [
    "indices = [i for i, x in enumerate(openSeats) if x == 0]"
   ]
  },
  {
   "cell_type": "code",
   "execution_count": 7,
   "metadata": {},
   "outputs": [
    {
     "output_type": "stream",
     "name": "stdout",
     "text": [
      "646\n"
     ]
    }
   ],
   "source": [
    "for i in indices:\n",
    "    if i+1 not in indices and i-1 not in indices:\n",
    "        print(i)"
   ]
  }
 ]
}