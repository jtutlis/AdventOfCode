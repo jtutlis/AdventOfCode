{
 "metadata": {
  "language_info": {
   "codemirror_mode": {
    "name": "ipython",
    "version": 3
   },
   "file_extension": ".py",
   "mimetype": "text/x-python",
   "name": "python",
   "nbconvert_exporter": "python",
   "pygments_lexer": "ipython3",
   "version": "3.8.6-final"
  },
  "orig_nbformat": 2,
  "kernelspec": {
   "name": "python3",
   "display_name": "Python 3.8.6 64-bit",
   "metadata": {
    "interpreter": {
     "hash": "0adcc2737ebf6a4a119f135174df96668767fca1ef1112612db5ecadf2b6d608"
    }
   }
  }
 },
 "nbformat": 4,
 "nbformat_minor": 2,
 "cells": [
  {
   "cell_type": "code",
   "execution_count": 1,
   "metadata": {},
   "outputs": [],
   "source": [
    "data = [0,5,4,1,10,14,7]"
   ]
  },
  {
   "cell_type": "code",
   "execution_count": 2,
   "metadata": {},
   "outputs": [],
   "source": [
    "def part1(inArr, num):\n",
    "    myArr = inArr[:]\n",
    "    cache = {}\n",
    "\n",
    "    # populate values of cache with input\n",
    "    # but not the last index\n",
    "    for index,val in enumerate(myArr):\n",
    "        if index != len(myArr) - 1:\n",
    "            cache[val] = index\n",
    "\n",
    "    prevVal = myArr[-1]\n",
    "    currIndex = len(myArr) - 1\n",
    "\n",
    "    # calculate the value of the next index, I don't put the prevVal in the cache\n",
    "    # until after I calculate the next value \n",
    "    while currIndex < num - 1:\n",
    "        currVal = -1\n",
    "        # print(f'currIndex={currIndex} prevVal={prevVal}')\n",
    "        if prevVal in cache:\n",
    "            currVal = currIndex - cache[prevVal]\n",
    "        else:\n",
    "            currVal = 0\n",
    "        cache[prevVal] = currIndex\n",
    "        prevVal = currVal\n",
    "        currIndex += 1\n",
    "    return currVal\n"
   ]
  },
  {
   "cell_type": "code",
   "execution_count": 3,
   "metadata": {},
   "outputs": [
    {
     "output_type": "execute_result",
     "data": {
      "text/plain": [
       "203"
      ]
     },
     "metadata": {},
     "execution_count": 3
    }
   ],
   "source": [
    "part1(data, 2020)"
   ]
  },
  {
   "cell_type": "code",
   "execution_count": 4,
   "metadata": {},
   "outputs": [
    {
     "output_type": "execute_result",
     "data": {
      "text/plain": [
       "9007186"
      ]
     },
     "metadata": {},
     "execution_count": 4
    }
   ],
   "source": [
    "# part2\n",
    "part1(data, 30000000)"
   ]
  },
  {
   "cell_type": "code",
   "execution_count": null,
   "metadata": {},
   "outputs": [],
   "source": []
  }
 ]
}