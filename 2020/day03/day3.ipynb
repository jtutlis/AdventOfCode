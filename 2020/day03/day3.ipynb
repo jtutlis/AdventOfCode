{
 "metadata": {
  "language_info": {
   "codemirror_mode": {
    "name": "ipython",
    "version": 3
   },
   "file_extension": ".py",
   "mimetype": "text/x-python",
   "name": "python",
   "nbconvert_exporter": "python",
   "pygments_lexer": "ipython3",
   "version": "3.8.6-final"
  },
  "orig_nbformat": 2,
  "kernelspec": {
   "name": "python3",
   "display_name": "Python 3.8.6 64-bit",
   "metadata": {
    "interpreter": {
     "hash": "0adcc2737ebf6a4a119f135174df96668767fca1ef1112612db5ecadf2b6d608"
    }
   }
  }
 },
 "nbformat": 4,
 "nbformat_minor": 2,
 "cells": [
  {
   "cell_type": "code",
   "execution_count": 1,
   "metadata": {},
   "outputs": [],
   "source": [
    "f = open(\"data.txt\", \"r\")\n",
    "data = f.readlines()\n",
    "data = [x.strip('\\n') for x in data]"
   ]
  },
  {
   "cell_type": "code",
   "execution_count": 2,
   "metadata": {},
   "outputs": [
    {
     "output_type": "stream",
     "name": "stdout",
     "text": [
      "187\n"
     ]
    }
   ],
   "source": [
    "### Part 1\n",
    "pos = 0\n",
    "count = 0\n",
    "for line in data:\n",
    "    pos %= 31\n",
    "    if line[pos] == '#':\n",
    "        count += 1\n",
    "    pos += 3\n",
    "print(count)"
   ]
  },
  {
   "cell_type": "code",
   "execution_count": 3,
   "metadata": {},
   "outputs": [],
   "source": [
    "### Part 2\n",
    "# right -> how many spaces to the right\n",
    "def calcTrees(data, right):\n",
    "    pos = 0\n",
    "    count = 0\n",
    "    for line in data:\n",
    "        pos %= 31\n",
    "        if line[pos] == '#':\n",
    "            count += 1\n",
    "        pos += right\n",
    "    return count"
   ]
  },
  {
   "cell_type": "code",
   "execution_count": 4,
   "metadata": {},
   "outputs": [
    {
     "output_type": "execute_result",
     "data": {
      "text/plain": [
       "4723283400"
      ]
     },
     "metadata": {},
     "execution_count": 4
    }
   ],
   "source": [
    "calcTrees(data, 1) * calcTrees(data, 3) * calcTrees(data, 5) * calcTrees(data, 7) * calcTrees(data[::2], 1)"
   ]
  }
 ]
}