{
 "metadata": {
  "language_info": {
   "codemirror_mode": {
    "name": "ipython",
    "version": 3
   },
   "file_extension": ".py",
   "mimetype": "text/x-python",
   "name": "python",
   "nbconvert_exporter": "python",
   "pygments_lexer": "ipython3",
   "version": "3.8.6-final"
  },
  "orig_nbformat": 2,
  "kernelspec": {
   "name": "python3",
   "display_name": "Python 3.8.6 64-bit",
   "metadata": {
    "interpreter": {
     "hash": "0adcc2737ebf6a4a119f135174df96668767fca1ef1112612db5ecadf2b6d608"
    }
   }
  }
 },
 "nbformat": 4,
 "nbformat_minor": 2,
 "cells": [
  {
   "cell_type": "code",
   "execution_count": 122,
   "metadata": {},
   "outputs": [
    {
     "output_type": "execute_result",
     "data": {
      "text/plain": [
       "[('000000000000000000000011000001010000',\n",
       "  '000000000000001101011001001001010100'),\n",
       " ('000000000000000000001000001000101000',\n",
       "  '000000000011001011010011001111010010'),\n",
       " ('000000000000000000001011110111000011',\n",
       "  '000000000000000000000011101010111111')]"
      ]
     },
     "metadata": {},
     "execution_count": 122
    }
   ],
   "source": [
    "from timeit import default_timer as timer\n",
    "import re\n",
    "\n",
    "f = open(\"data.txt\", \"r\")\n",
    "data = f.readlines()\n",
    "data = [x.strip('\\n') for x in data]\n",
    "\n",
    "parsedData = []\n",
    "mask = None\n",
    "addressAndValue = []\n",
    "for d in data:\n",
    "    a,b = d.split(' = ')\n",
    "    if 'mask' in a:\n",
    "        if mask != None:\n",
    "            parsedData.append((mask, addressAndValue))\n",
    "            addressAndValue = []\n",
    "        mask = b\n",
    "    else:\n",
    "        # yeeeeeeeeeeeehaw\n",
    "        addressAndValue.append((bin(int(re.search(r\"\\[(\\w+)\\]\", a).groups()[0]))[2:].zfill(36),bin(int(b))[2:].zfill(36)))\n",
    "parsedData.append((mask, addressAndValue))\n",
    "\n",
    "addressAndValue"
   ]
  },
  {
   "cell_type": "code",
   "execution_count": 194,
   "metadata": {},
   "outputs": [
    {
     "output_type": "stream",
     "name": "stdout",
     "text": [
      "9296748256641\n"
     ]
    }
   ],
   "source": [
    "def part1(values):\n",
    "    mem = {}\n",
    "    for mask, addAndVal in values:\n",
    "        for address, value in addAndVal:\n",
    "            result = ''\n",
    "            for m,v in zip(mask,value):\n",
    "                result += m if m is not 'X' else v\n",
    "            mem[address] = int(result, 2)\n",
    "    print(sum(mem.values()))\n",
    "part1(parsedData)"
   ]
  },
  {
   "cell_type": "code",
   "execution_count": 197,
   "metadata": {},
   "outputs": [
    {
     "output_type": "stream",
     "name": "stdout",
     "text": [
      "4877695371685\n"
     ]
    }
   ],
   "source": [
    "def part2(values):\n",
    "    mem = {}\n",
    "    for mask, addAndVal in values:\n",
    "        for address, value in addAndVal:\n",
    "            result = ''\n",
    "            for m,a in zip(mask,address):\n",
    "                result += m if m != '0' else a\n",
    "            # print(result)\n",
    "            for variation in getBinVariations(result):\n",
    "                mem[variation] = int(value,2)\n",
    "    print(sum(mem.values()))\n",
    "part2(parsedData)\n"
   ]
  },
  {
   "cell_type": "code",
   "execution_count": 196,
   "metadata": {},
   "outputs": [],
   "source": [
    "import itertools\n",
    "\n",
    "##https://stackoverflow.com/questions/52382444/replace-combinations-of-characters\n",
    "def getBinVariations(binString):\n",
    "    variations = []\n",
    "    listBin = list(binString)\n",
    "    # get all occurances of X\n",
    "    indices = [i for i, a in enumerate(binString) if a == 'X']\n",
    "\n",
    "    # create tmp string with indices\n",
    "    for t in itertools.product([0, 1], repeat=len(indices)):\n",
    "        for i, c in zip(indices, t):\n",
    "            listBin[i] = str(c)\n",
    "        variations.append(''.join(listBin))\n",
    "\n",
    "    return variations"
   ]
  },
  {
   "cell_type": "code",
   "execution_count": null,
   "metadata": {},
   "outputs": [],
   "source": []
  }
 ]
}