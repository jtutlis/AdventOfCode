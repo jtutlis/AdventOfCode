{
 "metadata": {
  "language_info": {
   "codemirror_mode": {
    "name": "ipython",
    "version": 3
   },
   "file_extension": ".py",
   "mimetype": "text/x-python",
   "name": "python",
   "nbconvert_exporter": "python",
   "pygments_lexer": "ipython3",
   "version": "3.8.6-final"
  },
  "orig_nbformat": 2,
  "kernelspec": {
   "name": "python3",
   "display_name": "Python 3.8.6 64-bit",
   "metadata": {
    "interpreter": {
     "hash": "0adcc2737ebf6a4a119f135174df96668767fca1ef1112612db5ecadf2b6d608"
    }
   }
  }
 },
 "nbformat": 4,
 "nbformat_minor": 2,
 "cells": [
  {
   "cell_type": "code",
   "execution_count": 121,
   "metadata": {},
   "outputs": [
    {
     "output_type": "error",
     "ename": "TypeError",
     "evalue": "append() takes exactly one argument (2 given)",
     "traceback": [
      "\u001b[0;31m---------------------------------------------------------------------------\u001b[0m",
      "\u001b[0;31mTypeError\u001b[0m                                 Traceback (most recent call last)",
      "\u001b[0;32m<ipython-input-121-c899115d1cbf>\u001b[0m in \u001b[0;36m<module>\u001b[0;34m\u001b[0m\n\u001b[1;32m     17\u001b[0m         \u001b[0mmask\u001b[0m \u001b[0;34m=\u001b[0m \u001b[0mb\u001b[0m\u001b[0;34m\u001b[0m\u001b[0;34m\u001b[0m\u001b[0m\n\u001b[1;32m     18\u001b[0m     \u001b[0;32melse\u001b[0m\u001b[0;34m:\u001b[0m\u001b[0;34m\u001b[0m\u001b[0;34m\u001b[0m\u001b[0m\n\u001b[0;32m---> 19\u001b[0;31m         \u001b[0maddressAndValue\u001b[0m\u001b[0;34m.\u001b[0m\u001b[0mappend\u001b[0m\u001b[0;34m(\u001b[0m\u001b[0mbin\u001b[0m\u001b[0;34m(\u001b[0m\u001b[0mint\u001b[0m\u001b[0;34m(\u001b[0m\u001b[0mre\u001b[0m\u001b[0;34m.\u001b[0m\u001b[0msearch\u001b[0m\u001b[0;34m(\u001b[0m\u001b[0;34mr\"\\[(\\w+)\\]\"\u001b[0m\u001b[0;34m,\u001b[0m \u001b[0ma\u001b[0m\u001b[0;34m)\u001b[0m\u001b[0;34m.\u001b[0m\u001b[0mgroups\u001b[0m\u001b[0;34m(\u001b[0m\u001b[0;34m)\u001b[0m\u001b[0;34m[\u001b[0m\u001b[0;36m0\u001b[0m\u001b[0;34m]\u001b[0m\u001b[0;34m)\u001b[0m\u001b[0;34m)\u001b[0m\u001b[0;34m[\u001b[0m\u001b[0;36m2\u001b[0m\u001b[0;34m:\u001b[0m\u001b[0;34m]\u001b[0m\u001b[0;34m.\u001b[0m\u001b[0mzfill\u001b[0m\u001b[0;34m(\u001b[0m\u001b[0;36m36\u001b[0m\u001b[0;34m)\u001b[0m\u001b[0;34m,\u001b[0m\u001b[0mbin\u001b[0m\u001b[0;34m(\u001b[0m\u001b[0mint\u001b[0m\u001b[0;34m(\u001b[0m\u001b[0mb\u001b[0m\u001b[0;34m)\u001b[0m\u001b[0;34m)\u001b[0m\u001b[0;34m[\u001b[0m\u001b[0;36m2\u001b[0m\u001b[0;34m:\u001b[0m\u001b[0;34m]\u001b[0m\u001b[0;34m.\u001b[0m\u001b[0mzfill\u001b[0m\u001b[0;34m(\u001b[0m\u001b[0;36m36\u001b[0m\u001b[0;34m)\u001b[0m\u001b[0;34m)\u001b[0m\u001b[0;34m\u001b[0m\u001b[0;34m\u001b[0m\u001b[0m\n\u001b[0m\u001b[1;32m     20\u001b[0m \u001b[0mparsedData\u001b[0m\u001b[0;34m.\u001b[0m\u001b[0mappend\u001b[0m\u001b[0;34m(\u001b[0m\u001b[0;34m(\u001b[0m\u001b[0mmask\u001b[0m\u001b[0;34m,\u001b[0m \u001b[0maddressAndValue\u001b[0m\u001b[0;34m)\u001b[0m\u001b[0;34m)\u001b[0m\u001b[0;34m\u001b[0m\u001b[0;34m\u001b[0m\u001b[0m\n\u001b[1;32m     21\u001b[0m \u001b[0;34m\u001b[0m\u001b[0m\n",
      "\u001b[0;31mTypeError\u001b[0m: append() takes exactly one argument (2 given)"
     ]
    }
   ],
   "source": [
    "from timeit import default_timer as timer\n",
    "import re\n",
    "\n",
    "f = open(\"data.txt\", \"r\")\n",
    "data = f.readlines()\n",
    "data = [x.strip('\\n') for x in data]\n",
    "\n",
    "parsedData = []\n",
    "mask = None\n",
    "addressAndValue = []\n",
    "for d in data:\n",
    "    a,b = d.split(' = ')\n",
    "    if 'mask' in a:\n",
    "        if mask != None:\n",
    "            parsedData.append((mask, addressAndValue))\n",
    "            addressAndValue = []\n",
    "        mask = b\n",
    "    else:\n",
    "        addressAndValue.append((bin(int(re.search(r\"\\[(\\w+)\\]\", a).groups()[0]))[2:].zfill(36),bin(int(b))[2:].zfill(36)))\n",
    "parsedData.append((mask, addressAndValue))\n",
    "\n",
    "addressAndValue"
   ]
  },
  {
   "cell_type": "code",
   "execution_count": 116,
   "metadata": {},
   "outputs": [
    {
     "output_type": "stream",
     "name": "stdout",
     "text": [
      "9296748256641\n"
     ]
    }
   ],
   "source": [
    "def part1(values):\n",
    "    mem = {}\n",
    "    for mask, addAndVal in values:\n",
    "        for address, value in addAndVal:\n",
    "            result = ''\n",
    "            for m,v in zip(mask,value):\n",
    "                result += m if m is not 'X' else v\n",
    "            mem[address] = int(result, 2)\n",
    "    print(sum(mem.values()))\n",
    "part1(parsedData)"
   ]
  },
  {
   "cell_type": "code",
   "execution_count": 119,
   "metadata": {},
   "outputs": [
    {
     "output_type": "stream",
     "name": "stdout",
     "text": [
      "4X11\n5X11X\n5X11\n2X11\n373X0\n105X7\n378X5\n186X5\n498X0\n1114X\n2111X\n27117\n491\n29114\nX11X1\nX11X1\nX11X1\nX11X1\n55111\n15111\n54111\n1X1X1\n6X1X\n1X1X1\n5X1X1\n5X1X\n31115\n41112\n4111\n7111\n11114\n21115\nX3X1\nX2X1X\nX6X1X\nX1X1X\nX9X1X\nX1X1X\nX9X1X\nXX111\nXX111\nXX111\nXX111\n21X13\n21X17\n11X19\n51X1\n11X12\n51X15\n31X14\n41111\n31110\n51111\n21119\n61117\n21110\n51116\n1411X\n1211X\n1011X\n1111X\n1711X\n1811X\n1311X\n2X16\n5X111\n2X12\n5XX41\n2XX71\n1XX91\n2XX61\nX2191\nX7161\nX913\nX0161\nX1141\nX4115\nX3119\nX0112\nX8118\nX2118\nX6113\n4111X\n4111X\n2111X\n5111X\n3111X\n1111X\n2416X\n3815X\n2419X\n13110\n911\n29114\n22117\n221\n36116\nX111X\nX111X\nX111X\nX111X\nX111X\n60111\n10111\n32111\n18111\nXXX18\nXXX12\nXXX11\nXXX17\nXXX12\nXXX14\nX1115\nX1112\nX1110\nXXX81\nXXX51\nXXX71\nXXX5\nXXX4\nXXX31\nXXX61\n8117\n41161\n3X111\n3X111\n3X111\n4X111\n1X111\n5X111\n1X11X\n1X11X\n1X11\n1X11X\n1X11X\n211X1\n411X1\n411X1\n311X1\n111X\n311X1\n611X\n27111\n30111\n61111\n20111\n14XX1\n14XX1\n611X8\n311X8\n211X1\nX1112\nX1116\nX1111\n631X\n241X1\n101X1\n121X1\n14111\n57111\n2111\n56111\n60111\nX1171\nX113\nX118\nX111\nX1161\n12161\n17101\n50121\n61161\n42141\n9111\n31512\n51819\n9151\n61714\n5122\n6175\n2X11\n3X111\n2X111\n6X11\n9X11\n15911\n14511\n16615\n11719\n11017\n63011\n28611\n49011\n38511\n37611\n9115\n41181\n41151\n11151\n41111\n2112\n11121\n21111\n21111\n31111\n11111\n31111\n21111\n31111\n21111\n21111\n41111\n21116\n11117\n61117\n41114\n1XX21\n6XX01\n2XX01\n2XX9\n411X1\n911\n211X1\n311X1\nX1111\nX1111\nX1111\nX1111\nX1111\nX1111\n121X5\n151X2\n171X\n191X7\n41X10\n31X18\n41X16\n31X18\n31X17\nX71X\nX31X1\nX31X1\nX91X\nX91\nX01X1\n51X41\n31X01\n31X61\n51X81\n91X5\n11111\n11111\n12111\n22111\n8X1\n4X111\n4X113\n2111X\n4111X\n3111X\n5111X\nX51X1\nX71X1\nX51X\nX21X1\nX61X\n2XX11\n1XX11\n311X4\n311X0\n411X3\n511X3\n511X\n1411X\n1011X\n1811X\n1611X\n1811X\n46811\n16411\n50911\n21511\n63711\n63011\n48911\n20141\n27171\n27121\nX7161\nX0111\nX415\nX612\n11X14\n51X\n31X16\n2X111\n4X111\n3X111\n4X111\n11161\n31141\n51191\n4113\n41121\n6111\n51191\n51191\n61141\n11131\n41141\n1111X\n1111\n1111X\n1111X\n1111X\n1111X\n1111X\n3X115\n5X112\n4X110\n3X114\n2X116\n4X111\n2X117\n1111X\n6111X\n2111X\n2111X\n2111X\n2111X\n511XX\n511XX\n211XX\n411XX\n1X151\n2X141\nXX114\nXX114\nXX112\nXX112\nXX118\nXX116\n1X1X5\n1X1X4\n1X1X2\n1X1X2\n261X\n141XX\n481XX\n401XX\n601XX\n981X\n111X1\n611X1\n111X1\n431X1\nX518\nX5141\nX3111\nX4113\nX3113\nX7118\nX6116\n56111\n17111\n25111\n12111\n49111\n28111\nX11X\nX11XX\nX11XX\nX11X\nX11XX\n51111\n11111\n31111\n9111\n21111\n11111\n21X14\n31X13\n61X11\n41X1\n11X14\n61X10\n31X11\n11X14\n31X15\n41X11\n21X1\n5111X\n6111X\n2111X\n1111X\n3111X\n2111X\n5111X\n10121\n16171\n1415\n15131\n61X51\n70X0\n40X61\n2111X\n4111X\n2111X\n6111X\n3111X\n5111X\nX1110\nX1112\nX1115\nX1171\nX116\nX111\nX1191\n1X181\n9X1\n11117\n61115\n31110\n41119\n31114\n41112\n21112\n61112\n21118\n41111\n41118\n58122\n56127\n48193\n56111\n1411X\n1611\n1211X\n1X1XX\n6X1XX\n2X1XX\n3X1XX\n11110\n41119\n51111\n7111\n2XX31\n1XX71\n7XX4\n1XX41\n5XX21\n4XX61\n3XX71\n11111\n11114\n11116\n41119\n1X1X8\n3X1X0\n4X1X9\n17224844507\n"
     ]
    }
   ],
   "source": [
    "def part2(values):\n",
    "    mem = {}\n",
    "    for mask, addAndVal in values:\n",
    "        for address, value in addAndVal:\n",
    "            result = ''\n",
    "            for m,a in zip(mask,address):\n",
    "                result += m if m != '0' else a\n",
    "            print(result)\n",
    "            for \n",
    "\n",
    "            mem[result] = int(value,2)\n",
    "    print(sum(mem.values()))\n",
    "part2(parsedData)\n"
   ]
  },
  {
   "cell_type": "code",
   "execution_count": null,
   "metadata": {},
   "outputs": [],
   "source": []
  }
 ]
}