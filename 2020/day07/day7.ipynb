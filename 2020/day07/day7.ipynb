{
 "metadata": {
  "language_info": {
   "codemirror_mode": {
    "name": "ipython",
    "version": 3
   },
   "file_extension": ".py",
   "mimetype": "text/x-python",
   "name": "python",
   "nbconvert_exporter": "python",
   "pygments_lexer": "ipython3",
   "version": "3.8.6-final"
  },
  "orig_nbformat": 2,
  "kernelspec": {
   "name": "python3",
   "display_name": "Python 3.8.6 64-bit",
   "metadata": {
    "interpreter": {
     "hash": "0adcc2737ebf6a4a119f135174df96668767fca1ef1112612db5ecadf2b6d608"
    }
   }
  }
 },
 "nbformat": 4,
 "nbformat_minor": 2,
 "cells": [
  {
   "cell_type": "code",
   "execution_count": 8,
   "metadata": {},
   "outputs": [],
   "source": [
    "f = open(\"data.txt\", \"r\")\n",
    "data = f.readlines()\n",
    "data = [x.replace('.\\n', '') for x in data]"
   ]
  },
  {
   "cell_type": "code",
   "execution_count": 9,
   "metadata": {
    "tags": []
   },
   "outputs": [],
   "source": [
    "# key = bag name, val = list[tuple(str(# of bags), str(bag name))...]\n",
    "rules = {}\n",
    "\n",
    "for x in data:\n",
    "    key, val = x.split(\" bags contain \")\n",
    "    #print(val.split(', '))\n",
    "    val = [tuple(i.split(' bag')[0].split(' ',1)) for i in val.split(', ')]\n",
    "    if not key in rules.keys():\n",
    "        if val[0][0] == 'no':\n",
    "            rules[key] = None\n",
    "        else: \n",
    "            rules[key] = val"
   ]
  },
  {
   "cell_type": "code",
   "execution_count": 10,
   "metadata": {},
   "outputs": [],
   "source": [
    "from functools import lru_cache\n",
    "### Checks if a bag can contain another bag\n",
    "# bag -> bag being evaluated\n",
    "# goalBag -> the bag we are trying to find\n",
    "# rules -> dict of rules about what each bag can hold\n",
    "@lru_cache() \n",
    "def canHold(bag, goalBag):\n",
    "    if (val := rules[bag]) is None:\n",
    "        return False\n",
    "    for x in val:\n",
    "        if goalBag in x:\n",
    "            return True\n",
    "    for x in val:\n",
    "        if canHold(x[1], goalBag):\n",
    "            return True\n",
    "    return False"
   ]
  },
  {
   "cell_type": "code",
   "execution_count": 11,
   "metadata": {},
   "outputs": [
    {
     "output_type": "stream",
     "name": "stdout",
     "text": [
      "155\n"
     ]
    }
   ],
   "source": [
    "count = 0\n",
    "for x in rules.keys():\n",
    "    if canHold(x, 'shiny gold'):\n",
    "        count += 1\n",
    "print(count)"
   ]
  },
  {
   "cell_type": "code",
   "execution_count": 12,
   "metadata": {},
   "outputs": [],
   "source": [
    "### Part 2\n",
    "\n",
    "### Checks how many bags can fit within a bag\n",
    "# bag -> name of bag\n",
    "@lru_cache() \n",
    "def howManyBagsRequired(bag):\n",
    "    if (val := rules[bag]) is None:\n",
    "        return 0\n",
    "    total = 0\n",
    "    for x in val:\n",
    "        total += int(x[0]) * howManyBagsRequired(x[1]) + int(x[0])\n",
    "    return total\n"
   ]
  },
  {
   "cell_type": "code",
   "execution_count": 13,
   "metadata": {},
   "outputs": [
    {
     "output_type": "execute_result",
     "data": {
      "text/plain": [
       "54803"
      ]
     },
     "metadata": {},
     "execution_count": 13
    }
   ],
   "source": [
    "howManyBagsRequired('shiny gold')"
   ]
  },
  {
   "cell_type": "code",
   "execution_count": 14,
   "metadata": {},
   "outputs": [
    {
     "output_type": "stream",
     "name": "stdout",
     "text": [
      "muted coral 13791\ndim olive 1506257736\nplaid lavender 2657761726\nbright coral 191892176272\nshiny purple 365714937810\n"
     ]
    }
   ],
   "source": [
    "maxima = 0\n",
    "for x in rules.keys():\n",
    "    if (a := howManyBagsRequired(x)) > maxima:\n",
    "        maxima = a\n",
    "        print(x, maxima)\n",
    "        "
   ]
  }
 ]
}